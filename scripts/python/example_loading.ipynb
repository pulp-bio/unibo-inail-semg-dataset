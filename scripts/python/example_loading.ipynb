{
 "cells": [
  {
   "cell_type": "code",
   "execution_count": 1,
   "id": "b6a3f321",
   "metadata": {},
   "outputs": [],
   "source": [
    "import load_file_data"
   ]
  },
  {
   "cell_type": "code",
   "execution_count": 2,
   "id": "f1f36be7",
   "metadata": {},
   "outputs": [],
   "source": [
    "# Python: zero-based indexing\n",
    "idx_subject = 0\n",
    "idx_day = 0\n",
    "idx_posture = 0\n",
    "\n",
    "emg, label, relabel, gesture_counter = \\\n",
    "    load_file_data.load_file_data(idx_subject, idx_day, idx_posture)"
   ]
  },
  {
   "cell_type": "code",
   "execution_count": null,
   "id": "9bf96498",
   "metadata": {},
   "outputs": [],
   "source": []
  }
 ],
 "metadata": {
  "kernelspec": {
   "display_name": "Python 3 (ipykernel)",
   "language": "python",
   "name": "python3"
  },
  "language_info": {
   "codemirror_mode": {
    "name": "ipython",
    "version": 3
   },
   "file_extension": ".py",
   "mimetype": "text/x-python",
   "name": "python",
   "nbconvert_exporter": "python",
   "pygments_lexer": "ipython3",
   "version": "3.7.15"
  }
 },
 "nbformat": 4,
 "nbformat_minor": 5
}
